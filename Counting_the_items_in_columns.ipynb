{
 "cells": [
  {
   "cell_type": "code",
   "execution_count": 11,
   "metadata": {},
   "outputs": [],
   "source": [
    "import numpy as np\n",
    "import pandas as pd\n",
    "import datetime\n"
   ]
  },
  {
   "cell_type": "code",
   "execution_count": 20,
   "metadata": {},
   "outputs": [],
   "source": [
    "train = pd.read_csv('train.csv', dtype={'msno' : 'category',\n",
    "                                                'source_system_tab' : 'category',\n",
    "                                                  'source_screen_name' : 'category',\n",
    "                                                  'source_type' : 'category',\n",
    "                                                  'target' : np.uint8,\n",
    "                                                  'song_id' : 'category'})\n",
    "test = pd.read_csv('test.csv', dtype={'msno' : 'category',\n",
    "                                                'source_system_tab' : 'category',\n",
    "                                                'source_screen_name' : 'category',\n",
    "                                                'source_type' : 'category',\n",
    "                                                'song_id' : 'category'})\n",
    "songs = pd.read_csv('songs.csv',dtype={'genre_ids': 'category',\n",
    "                                                  'language' : 'category',\n",
    "                                                  'artist_name' : 'category',\n",
    "                                                  'composer' : 'category',\n",
    "                                                  'lyricist' : 'category',\n",
    "                                                  'song_id' : 'category'})\n",
    "members = pd.read_csv('members.csv',dtype={'city' : 'category',\n",
    "                                                      'bd' : np.uint8,\n",
    "                                                      'gender' : 'category',\n",
    "                                                      'registered_via' : 'category'},\n",
    "                     parse_dates=['registration_init_time','expiration_date'])\n",
    "songs_extra = pd.read_csv('song_extra_info.csv')"
   ]
  },
  {
   "cell_type": "code",
   "execution_count": 21,
   "metadata": {},
   "outputs": [],
   "source": [
    "member.registration_init_time = pd.to_datetime(member.registration_init_time, format='%Y%m%d', errors='ignore')\n",
    "member['registration_init_time_year'] = member['registration_init_time'].dt.year\n",
    "member['registration_init_time_month'] = member['registration_init_time'].dt.month\n",
    "member['registration_init_time_day'] = member['registration_init_time'].dt.day\n",
    "\n",
    "\n",
    "member.expiration_date = pd.to_datetime(member.expiration_date,  format='%Y%m%d', errors='ignore')\n",
    "member['expiration_date_year'] = member['expiration_date'].dt.year\n",
    "member['expiration_date_month'] = member['expiration_date'].dt.month\n",
    "member['expiration_date_day'] = member['expiration_date'].dt.day\n",
    "\n",
    "def count_items(data):\n",
    "    return sum(map(data.count, ['|', '/', '\\\\', ';'])) + 1\n"
   ]
  },
  {
   "cell_type": "code",
   "execution_count": 22,
   "metadata": {},
   "outputs": [],
   "source": [
    "songs['lyricists_count'] = songs['lyricist'].apply(count_items)#.astype(np.int)\n",
    "songs['composer_count'] = songs['composer'].apply(count_items).astype(np.int8)\n",
    "songs['genre_count'] = songs['genre_ids'].apply(count_items).astype(np.int8)\n"
   ]
  },
  {
   "cell_type": "code",
   "execution_count": 23,
   "metadata": {},
   "outputs": [],
   "source": [
    "def count_artist(data):\n",
    "    return sum(map(data.count, ['and', ',', 'feat', '&'])) + 1"
   ]
  },
  {
   "cell_type": "code",
   "execution_count": 24,
   "metadata": {},
   "outputs": [],
   "source": [
    "songs['artists_count'] = songs['artist_name'].apply(count_artist)"
   ]
  },
  {
   "cell_type": "code",
   "execution_count": 25,
   "metadata": {},
   "outputs": [
    {
     "data": {
      "text/plain": [
       "index                                                        1710890\n",
       "song_id                 /bcwFPWohrDqsO3Yrck8aOMWhILP3TYwFZf0EbsflyM=\n",
       "song_length                                                   163944\n",
       "genre_ids                                                       1259\n",
       "artist_name         2 THE EXTREME,Master Chief & iLLest Game,,52\\...\n",
       "composer                                                Jim Steinman\n",
       "lyricist                                                         NaN\n",
       "language                                                        52.0\n",
       "lyricists_count                                                    1\n",
       "composer_count                                                     1\n",
       "genre_count                                                        1\n",
       "artists_count                                                   2309\n",
       "Name: 1710890, dtype: object"
      ]
     },
     "execution_count": 25,
     "metadata": {},
     "output_type": "execute_result"
    }
   ],
   "source": [
    "songs = songs.reset_index()\n",
    "songs.loc[songs['artists_count'].idxmax()]"
   ]
  },
  {
   "cell_type": "code",
   "execution_count": null,
   "metadata": {},
   "outputs": [],
   "source": []
  }
 ],
 "metadata": {
  "kernelspec": {
   "display_name": "Python 3",
   "language": "python",
   "name": "python3"
  },
  "language_info": {
   "codemirror_mode": {
    "name": "ipython",
    "version": 3
   },
   "file_extension": ".py",
   "mimetype": "text/x-python",
   "name": "python",
   "nbconvert_exporter": "python",
   "pygments_lexer": "ipython3",
   "version": "3.7.0"
  }
 },
 "nbformat": 4,
 "nbformat_minor": 2
}
