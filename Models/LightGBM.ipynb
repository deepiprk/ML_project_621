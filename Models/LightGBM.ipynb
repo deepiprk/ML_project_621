{
 "cells": [
  {
   "cell_type": "code",
   "execution_count": 2,
   "metadata": {
    "ExecuteTime": {
     "end_time": "2018-12-05T19:50:49.588738Z",
     "start_time": "2018-12-05T19:50:48.786324Z"
    }
   },
   "outputs": [],
   "source": [
    "import numpy as np\n",
    "import pandas as pd\n",
    "import lightgbm as lgb\n",
    "import datetime\n",
    "import math\n",
    "import gc\n",
    "from sklearn.pipeline import Pipeline\n",
    "from sklearn.model_selection import GridSearchCV\n",
    "from sklearn.metrics import accuracy_score\n",
    "import random\n",
    "import matplotlib.pyplot as plt"
   ]
  },
  {
   "cell_type": "markdown",
   "metadata": {},
   "source": [
    "# Loading Data"
   ]
  },
  {
   "cell_type": "code",
   "execution_count": null,
   "metadata": {
    "ExecuteTime": {
     "end_time": "2018-12-05T03:47:27.290894Z",
     "start_time": "2018-12-05T03:47:03.275481Z"
    }
   },
   "outputs": [],
   "source": [
    "print('Loading data...')\n",
    "data_path = '/Users/alvira/Desktop/ml1/kaggle/music/'\n",
    "train = pd.read_csv('train.csv', dtype={'msno' : 'object',\n",
    "                                                 'source_system_tab' : 'object',\n",
    "                                                 'source_screen_name' : 'object',\n",
    "                                                 'source_type' : 'object',\n",
    "                                                 'target' : np.uint8,\n",
    "                                                 'song_id' : 'object'})\n",
    "test = pd.read_csv('test.csv', dtype={'msno' : 'object',\n",
    "                                               'source_system_tab' : 'object',\n",
    "                                               'source_screen_name' : 'object',\n",
    "                                               'source_type' : 'object',\n",
    "                                               'song_id' : 'object'})\n",
    "songs = pd.read_csv('songs.csv',dtype={'genre_ids': 'object',\n",
    "                                                    'language' : 'object',\n",
    "                                                    'artist_name' : 'object',\n",
    "                                                    'composer' : 'object',\n",
    "                                                    'lyricist' : 'object',\n",
    "                                                    'song_id' : 'object'})\n",
    "members = pd.read_csv('members.csv',dtype={'city' : 'object',\n",
    "                                                    'bd' : np.uint8,\n",
    "                                                    'gender' : 'object',\n",
    "                                                    'registered_via' : 'object'},\n",
    "                      parse_dates=['registration_init_time','expiration_date'])\n",
    "songs_extra = pd.read_csv('song_extra_info.csv')\n",
    "print('Done loading...')"
   ]
  },
  {
   "cell_type": "code",
   "execution_count": null,
   "metadata": {
    "ExecuteTime": {
     "end_time": "2018-12-05T03:47:47.579948Z",
     "start_time": "2018-12-05T03:47:27.294554Z"
    }
   },
   "outputs": [],
   "source": [
    "def object2cat(df):\n",
    "    object_cols = list(df.select_dtypes(include=['object']).columns)\n",
    "    for col in object_cols:\n",
    "        df[col]=df[col].astype('category')\n",
    "object2cat(train)\n",
    "object2cat(test)\n",
    "object2cat(songs)\n",
    "object2cat(members)"
   ]
  },
  {
   "cell_type": "code",
   "execution_count": null,
   "metadata": {
    "ExecuteTime": {
     "end_time": "2018-12-05T03:47:47.587447Z",
     "start_time": "2018-12-05T03:47:47.581045Z"
    }
   },
   "outputs": [],
   "source": [
    "#test case for object2cat\n",
    "assert train['msno'].dtype == 'category'\n",
    "assert test['source_system_tab'].dtype == 'category'\n",
    "assert songs['language'].dtype == 'category'\n",
    "assert members['city'].dtype == 'category'"
   ]
  },
  {
   "cell_type": "code",
   "execution_count": null,
   "metadata": {
    "ExecuteTime": {
     "end_time": "2018-12-05T03:47:47.602171Z",
     "start_time": "2018-12-05T03:47:47.591060Z"
    }
   },
   "outputs": [],
   "source": [
    "songs_extra.head()"
   ]
  },
  {
   "cell_type": "code",
   "execution_count": null,
   "metadata": {
    "ExecuteTime": {
     "end_time": "2018-12-05T03:48:16.952747Z",
     "start_time": "2018-12-05T03:47:47.603762Z"
    }
   },
   "outputs": [],
   "source": [
    "print('Data merging...')\n",
    "\n",
    "#Merging song with train and test dataframes\n",
    "train = train.merge(songs, on='song_id', how='left')\n",
    "test = test.merge(songs, on='song_id', how='left')\n",
    "\n",
    "#Data Extraction/Transformation - Extracting days, months and years from expiratin and registration time \n",
    "\n",
    "members['membership_days'] = members['expiration_date'].subtract(members['registration_init_time']). \\\n",
    "                             dt.days.astype(int)\n",
    "\n",
    "members['registration_year'] = members['registration_init_time'].dt.year\n",
    "members['registration_month'] = members['registration_init_time'].dt.month\n",
    "members['registration_date'] = members['registration_init_time'].dt.day\n",
    "\n",
    "members['expiration_year'] = members['expiration_date'].dt.year\n",
    "members['expiration_month'] = members['expiration_date'].dt.month\n",
    "members['expiration_date'] = members['expiration_date'].dt.day\n",
    "members = members.drop(['registration_init_time'], axis=1)\n",
    "\n",
    "\n",
    "# Converting isrc id to year\n",
    "def isrc_to_year(isrc):\n",
    "    if type(isrc) == str:\n",
    "        if int(isrc[5:7]) > 17:\n",
    "            return 1900 + int(isrc[5:7])\n",
    "        else:\n",
    "            return 2000 + int(isrc[5:7])\n",
    "    else:\n",
    "        return np.nan\n",
    "    \n",
    "\n",
    "#extracting the year of the song from isrc        \n",
    "songs_extra['song_year'] = songs_extra['isrc'].apply(isrc_to_year)\n",
    "\n",
    "#Dropping isrc and name from songs_extra\n",
    "songs_extra.drop(['isrc', 'name'], axis = 1, inplace = True)\n",
    "\n",
    "train = train.merge(members, on='msno', how='left')\n",
    "train.msno = train.msno.astype('category')\n",
    "test = test.merge(members, on='msno', how='left')\n",
    "test.msno = test.msno.astype('category')\n",
    "\n",
    "train = train.merge(songs_extra, on = 'song_id', how = 'left')\n",
    "train.song_length.fillna(200000,inplace=True)\n",
    "train.song_length = train.song_length.astype(np.uint32)\n",
    "train.song_id = train.song_id.astype('category')\n",
    "\n",
    "\n",
    "test = test.merge(songs_extra, on = 'song_id', how = 'left')\n",
    "test.song_length.fillna(200000,inplace=True)\n",
    "test.song_length = test.song_length.astype(np.uint32)\n",
    "test.song_id = test.song_id.astype('category')\n",
    "\n",
    "#deleting redundant dataframes\n",
    "\n",
    "del members, songs; gc.collect();\n",
    "\n",
    "print('Done merging...')"
   ]
  },
  {
   "cell_type": "code",
   "execution_count": null,
   "metadata": {
    "ExecuteTime": {
     "end_time": "2018-12-05T03:48:16.956902Z",
     "start_time": "2018-12-05T03:48:16.954499Z"
    }
   },
   "outputs": [],
   "source": [
    "#testing isrc_to_year\n",
    "assert len(songs_extra['song_year']) != 0\n"
   ]
  },
  {
   "cell_type": "code",
   "execution_count": null,
   "metadata": {
    "ExecuteTime": {
     "end_time": "2018-12-05T03:48:16.964891Z",
     "start_time": "2018-12-05T03:48:16.958445Z"
    }
   },
   "outputs": [],
   "source": [
    "train.dtypes"
   ]
  },
  {
   "cell_type": "code",
   "execution_count": null,
   "metadata": {
    "ExecuteTime": {
     "end_time": "2018-12-05T03:48:20.153702Z",
     "start_time": "2018-12-05T03:48:16.966714Z"
    }
   },
   "outputs": [],
   "source": [
    "print (\"Adding new features\")\n",
    "\n",
    "#counting genre_id\n",
    "def genre_id_count(x):\n",
    "    if x == 'no_genre_id':\n",
    "        return 0\n",
    "    else:\n",
    "        return x.count('|') + 1\n",
    "\n",
    "\n",
    "#filling NA in place of null values\n",
    "train['genre_ids'].cat.add_categories('no_genre_id').fillna('no_genre_id',inplace=True)\n",
    "test['genre_ids'].cat.add_categories('no_genre_id').fillna('no_genre_id',inplace=True)\n",
    "train['genre_ids_count'] = train['genre_ids'].apply(genre_id_count).astype(np.int8)\n",
    "test['genre_ids_count'] = test['genre_ids'].apply(genre_id_count).astype(np.int8)\n",
    "\n",
    "\n",
    "# Splitting the lyricists by ['|', '/', '\\\\', ';'] and counting the number of Lyricists\n",
    "def lyricist_count(x):\n",
    "    if x == 'no_lyricist':\n",
    "        return 0\n",
    "    else:\n",
    "        return sum(map(x.count, ['|', '/', '\\\\', ';'])) + 1\n",
    "    return sum(map(x.count, ['|', '/', '\\\\', ';']))\n",
    "\n",
    "train['lyricist'].cat.add_categories('no_lyricist').fillna('no_lyricist',inplace=True)\n",
    "test['lyricist'].cat.add_categories('no_lyricist').fillna('no_lyricist',inplace=True)\n",
    "train['lyricists_count'] = train['lyricist'].apply(lyricist_count).astype(np.int8)\n",
    "test['lyricists_count'] = test['lyricist'].apply(lyricist_count).astype(np.int8)\n",
    "\n",
    "\n",
    "# Splitting the comoser by ['|', '/', '\\\\', ';'] and counting the number of Lyricists\n",
    "def composer_count(x):\n",
    "    if x == 'no_composer':\n",
    "        return 0\n",
    "    else:\n",
    "        return sum(map(x.count, ['|', '/', '\\\\', ';'])) + 1\n",
    "\n",
    "train['composer'].cat.add_categories('no_composer').fillna('no_composer',inplace=True)\n",
    "test['composer'].cat.add_categories('no_composer').fillna('no_composer',inplace=True)\n",
    "train['composer_count'] = train['composer'].apply(composer_count).astype(np.int8)\n",
    "test['composer_count'] = test['composer'].apply(composer_count).astype(np.int8)\n",
    "\n",
    "# Checking for feat in the column value\n",
    "def is_featured(x):\n",
    "    if 'feat' in str(x) :\n",
    "        return 1\n",
    "    return 0\n",
    "\n",
    "train['artist_name'].cat.add_categories('no_artist').fillna('no_artist',inplace=True)\n",
    "test['artist_name'].cat.add_categories('no_artist').fillna('no_artist',inplace=True)\n",
    "train['is_featured'] = train['artist_name'].apply(is_featured).astype(np.int8)\n",
    "test['is_featured'] = test['artist_name'].apply(is_featured).astype(np.int8)\n",
    "\n",
    "# Splitting the artists by [and, ',', feat, &] and counting the number of artists\n",
    "def artist_count(x):\n",
    "    if x == 'no_artist':\n",
    "        return 0\n",
    "    else:\n",
    "        return x.count('and') + x.count(',') + x.count('feat') + x.count('&')\n",
    "\n",
    "train['artist_count'] = train['artist_name'].apply(artist_count).astype(np.int8)\n",
    "test['artist_count'] = test['artist_name'].apply(artist_count).astype(np.int8)"
   ]
  },
  {
   "cell_type": "code",
   "execution_count": null,
   "metadata": {
    "ExecuteTime": {
     "end_time": "2018-12-05T03:52:01.640361Z",
     "start_time": "2018-12-05T03:52:01.625001Z"
    }
   },
   "outputs": [],
   "source": [
    "#testing above functions\n",
    "\n",
    "#testing genre_id_count\n",
    "assert len(train['genre_ids_count']) != 0\n",
    "assert len(test['genre_ids_count']) != 0\n",
    "\n",
    "#testing composer_count\n",
    "assert len(train['composer_count']) != 0\n",
    "assert len(train['composer_count']) != 0\n",
    "\n",
    "#testing lyricist_count\n",
    "assert len(train['lyricists_count']) != 0\n",
    "assert len(test['lyricists_count']) != 0\n",
    "\n",
    "#testing is_feat\n",
    "assert len(train['is_featured']) != 0\n",
    "assert len(test['is_featured']) != 0\n",
    "\n",
    "#testing artist_count\n",
    "assert len(train['artist_count']) != 0\n",
    "assert len(test['artist_count']) != 0"
   ]
  },
  {
   "cell_type": "code",
   "execution_count": null,
   "metadata": {
    "ExecuteTime": {
     "end_time": "2018-12-05T03:55:22.043770Z",
     "start_time": "2018-12-05T03:55:07.838979Z"
    }
   },
   "outputs": [],
   "source": [
    "# if artist is same as composer\n",
    "train['artist_composer'] = (train['artist_name'].astype(\"object\") == train['composer'].astype(\"object\")).astype(np.int8)\n",
    "test['artist_composer'] = (test['artist_name'].astype(\"object\") == test['composer'].astype(\"object\")).astype(np.int8)\n",
    "\n",
    "\n",
    "# if artist, lyricist and composer are all three same\n",
    "train['artist_composer_lyricist'] = ((train['artist_name'].astype(\"object\") == train['composer'].astype(\"object\")) & (train['artist_name'].astype(\"object\") == train['lyricist'].astype(\"object\")) & (train['composer'].astype(\"object\") == train['lyricist'].astype(\"object\"))).astype(np.int8)\n",
    "test['artist_composer_lyricist'] = ((test['artist_name'].astype(\"object\") == test['composer'].astype(\"object\")) & (test['artist_name'].astype(\"object\") == test['lyricist'].astype(\"object\")) & (test['composer'].astype(\"object\") == test['lyricist'].astype(\"object\"))).astype(np.int8)\n",
    "\n",
    "# is song language 17 or 45. \n",
    "def song_lang_boolean(x):\n",
    "    if '17.0' in str(x) or '45.0' in str(x):\n",
    "        return 1\n",
    "    return 0\n",
    "\n",
    "train['song_lang_boolean'] = train['language'].apply(song_lang_boolean).astype(np.int8)\n",
    "test['song_lang_boolean'] = test['language'].apply(song_lang_boolean).astype(np.int8)\n",
    "\n",
    "\n",
    "_mean_song_length = np.mean(train['song_length'])\n",
    "def smaller_song(x):\n",
    "    if x < _mean_song_length:\n",
    "        return 1\n",
    "    return 0\n",
    "\n",
    "train['smaller_song'] = train['song_length'].apply(smaller_song).astype(np.int8)\n",
    "test['smaller_song'] = test['song_length'].apply(smaller_song).astype(np.int8)\n",
    "\n",
    "# number of times a song has been played before\n",
    "_dict_count_song_played_train = {k: v for k, v in train['song_id'].value_counts().iteritems()}\n",
    "_dict_count_song_played_test = {k: v for k, v in test['song_id'].value_counts().iteritems()}\n",
    "def count_song_played(x):\n",
    "    try:\n",
    "        return _dict_count_song_played_train[x]\n",
    "    except KeyError:\n",
    "        try:\n",
    "            return _dict_count_song_played_test[x]\n",
    "        except KeyError:\n",
    "            return 0\n",
    "    \n",
    "\n",
    "train['count_song_played'] = train['song_id'].apply(count_song_played).astype(np.int64)\n",
    "test['count_song_played'] = test['song_id'].apply(count_song_played).astype(np.int64)\n",
    "\n",
    "# number of times the artist has been played\n",
    "_dict_count_artist_played_train = {k: v for k, v in train['artist_name'].value_counts().iteritems()}\n",
    "_dict_count_artist_played_test = {k: v for k, v in test['artist_name'].value_counts().iteritems()}\n",
    "def count_artist_played(x):\n",
    "    try:\n",
    "        return _dict_count_artist_played_train[x]\n",
    "    except KeyError:\n",
    "        try:\n",
    "            return _dict_count_artist_played_test[x]\n",
    "        except KeyError:\n",
    "            return 0\n",
    "\n",
    "train['count_artist_played'] = train['artist_name'].apply(count_artist_played).astype(np.int64)\n",
    "test['count_artist_played'] = test['artist_name'].apply(count_artist_played).astype(np.int64)\n",
    "\n",
    "\n",
    "print(\"Done adding features\")"
   ]
  },
  {
   "cell_type": "code",
   "execution_count": null,
   "metadata": {
    "ExecuteTime": {
     "end_time": "2018-12-05T04:16:06.970173Z",
     "start_time": "2018-12-05T04:16:06.956765Z"
    }
   },
   "outputs": [],
   "source": [
    "#testing the functions\n",
    "\n",
    "#testing song_lang_boolean\n",
    "assert train['song_lang_boolean'][0] == 0\n",
    "assert train['song_lang_boolean'][58] == 1\n",
    "\n",
    "#testing smaller_song\n",
    "assert len(test['smaller_song']) != 0\n",
    "assert len(train['smaller_song']) != 0\n",
    "\n",
    "#testing count_song_played\n",
    "assert 'count_song_played' in train\n",
    "assert len(train['count_artist_played']) != 0\n",
    "assert 'count_song_played' in test\n",
    "assert len(test['count_artist_played']) != 0"
   ]
  },
  {
   "cell_type": "code",
   "execution_count": null,
   "metadata": {
    "ExecuteTime": {
     "end_time": "2018-12-05T04:17:14.323884Z",
     "start_time": "2018-12-05T04:17:13.734147Z"
    }
   },
   "outputs": [],
   "source": [
    "print (\"Train test and validation sets\")\n",
    "for col in train.columns:\n",
    "    if train[col].dtype == object:\n",
    "        train[col] = train[col].astype('category')\n",
    "        test[col] = test[col].astype('category')\n",
    "\n",
    "\n",
    "X_train = train.drop(['target'], axis=1)\n",
    "y_train = train['target'].values\n",
    "\n",
    "\n",
    "X_test = test.drop(['id'], axis=1)\n",
    "ids = test['id'].values\n",
    "\n",
    "\n",
    "# del train, test; gc.collect();\n",
    "\n",
    "d_train_final = lgb.Dataset(X_train, y_train)\n",
    "watchlist_final = lgb.Dataset(X_train, y_train)\n",
    "print('Processed data...')"
   ]
  },
  {
   "cell_type": "code",
   "execution_count": null,
   "metadata": {
    "ExecuteTime": {
     "end_time": "2018-12-05T04:21:02.900834Z",
     "start_time": "2018-12-05T04:17:16.973615Z"
    }
   },
   "outputs": [],
   "source": [
    "\n",
    "train.to_csv(\"processed_train_1.csv\")\n",
    "test.to_csv(\"test_1.csv\")"
   ]
  },
  {
   "cell_type": "code",
   "execution_count": null,
   "metadata": {
    "ExecuteTime": {
     "end_time": "2018-12-05T04:21:02.946343Z",
     "start_time": "2018-12-05T04:21:02.907391Z"
    }
   },
   "outputs": [],
   "source": [
    "del songs_extra"
   ]
  },
  {
   "cell_type": "code",
   "execution_count": null,
   "metadata": {
    "ExecuteTime": {
     "end_time": "2018-12-05T04:21:03.204876Z",
     "start_time": "2018-12-05T04:21:02.948009Z"
    }
   },
   "outputs": [],
   "source": [
    "gc.collect()"
   ]
  },
  {
   "cell_type": "code",
   "execution_count": 3,
   "metadata": {
    "ExecuteTime": {
     "end_time": "2018-12-05T19:51:44.987701Z",
     "start_time": "2018-12-05T19:51:02.302823Z"
    }
   },
   "outputs": [],
   "source": [
    "train = pd.read_csv(\"processed_train_1.csv\")"
   ]
  },
  {
   "cell_type": "code",
   "execution_count": 4,
   "metadata": {
    "ExecuteTime": {
     "end_time": "2018-12-05T19:52:02.926500Z",
     "start_time": "2018-12-05T19:51:44.989328Z"
    }
   },
   "outputs": [],
   "source": [
    "#Converting the columns to category wherever needed\n",
    "for col in train.columns:\n",
    "    if train[col].dtype == object:\n",
    "        train[col] = train[col].astype('category')        \n",
    "\n",
    "y_train = train['target'].values\n",
    "X_train = train.drop(['target'], axis=1)"
   ]
  },
  {
   "cell_type": "code",
   "execution_count": 5,
   "metadata": {
    "ExecuteTime": {
     "end_time": "2018-12-05T19:52:11.226973Z",
     "start_time": "2018-12-05T19:52:02.927651Z"
    }
   },
   "outputs": [],
   "source": [
    "from sklearn.model_selection import train_test_split\n",
    "X_train_all, X_test, y_train_all, y_test = train_test_split(X_train, y_train, test_size=0.2, random_state=1)\n",
    "\n",
    "X_train, X_val, y_train, y_val = train_test_split(X_train_all, y_train_all, test_size=0.2, random_state=1)"
   ]
  },
  {
   "cell_type": "code",
   "execution_count": 7,
   "metadata": {
    "ExecuteTime": {
     "end_time": "2018-12-05T18:57:35.490083Z",
     "start_time": "2018-12-05T18:57:35.448942Z"
    }
   },
   "outputs": [
    {
     "data": {
      "text/html": [
       "<div>\n",
       "<style scoped>\n",
       "    .dataframe tbody tr th:only-of-type {\n",
       "        vertical-align: middle;\n",
       "    }\n",
       "\n",
       "    .dataframe tbody tr th {\n",
       "        vertical-align: top;\n",
       "    }\n",
       "\n",
       "    .dataframe thead th {\n",
       "        text-align: right;\n",
       "    }\n",
       "</style>\n",
       "<table border=\"1\" class=\"dataframe\">\n",
       "  <thead>\n",
       "    <tr style=\"text-align: right;\">\n",
       "      <th></th>\n",
       "      <th>Unnamed: 0</th>\n",
       "      <th>msno</th>\n",
       "      <th>song_id</th>\n",
       "      <th>source_system_tab</th>\n",
       "      <th>source_screen_name</th>\n",
       "      <th>source_type</th>\n",
       "      <th>song_length</th>\n",
       "      <th>genre_ids</th>\n",
       "      <th>artist_name</th>\n",
       "      <th>composer</th>\n",
       "      <th>...</th>\n",
       "      <th>lyricists_count</th>\n",
       "      <th>composer_count</th>\n",
       "      <th>is_featured</th>\n",
       "      <th>artist_count</th>\n",
       "      <th>artist_composer</th>\n",
       "      <th>artist_composer_lyricist</th>\n",
       "      <th>song_lang_boolean</th>\n",
       "      <th>smaller_song</th>\n",
       "      <th>count_song_played</th>\n",
       "      <th>count_artist_played</th>\n",
       "    </tr>\n",
       "  </thead>\n",
       "  <tbody>\n",
       "    <tr>\n",
       "      <th>3080545</th>\n",
       "      <td>3080545</td>\n",
       "      <td>1Lshat/Jzw29ax/Z1BW8cbgqE9gwYQuNHAn1vyU4K6I=</td>\n",
       "      <td>Vh95vgpmcpdngmn7WrkbwnT4j+jjzf3hGb6GVTXQLzQ=</td>\n",
       "      <td>my library</td>\n",
       "      <td>Local playlist more</td>\n",
       "      <td>local-playlist</td>\n",
       "      <td>143464</td>\n",
       "      <td>921</td>\n",
       "      <td>ジブリサウンドトラック</td>\n",
       "      <td>NaN</td>\n",
       "      <td>...</td>\n",
       "      <td>1</td>\n",
       "      <td>1</td>\n",
       "      <td>0</td>\n",
       "      <td>0</td>\n",
       "      <td>0</td>\n",
       "      <td>0</td>\n",
       "      <td>1</td>\n",
       "      <td>1</td>\n",
       "      <td>19</td>\n",
       "      <td>13274</td>\n",
       "    </tr>\n",
       "    <tr>\n",
       "      <th>2066956</th>\n",
       "      <td>2066956</td>\n",
       "      <td>gDiC609oMU6T+KRowS1tySjuhzrHtsqFU6keH4VNgcY=</td>\n",
       "      <td>eSerI0GiRKmKVwhbY05QQi6DSRrCz4/vhiyvipqURDk=</td>\n",
       "      <td>search</td>\n",
       "      <td>Search</td>\n",
       "      <td>top-hits-for-artist</td>\n",
       "      <td>228832</td>\n",
       "      <td>465</td>\n",
       "      <td>aMEI (張惠妹)</td>\n",
       "      <td>Huang Yun Ren</td>\n",
       "      <td>...</td>\n",
       "      <td>1</td>\n",
       "      <td>1</td>\n",
       "      <td>0</td>\n",
       "      <td>0</td>\n",
       "      <td>0</td>\n",
       "      <td>0</td>\n",
       "      <td>0</td>\n",
       "      <td>1</td>\n",
       "      <td>2351</td>\n",
       "      <td>82799</td>\n",
       "    </tr>\n",
       "    <tr>\n",
       "      <th>4284632</th>\n",
       "      <td>4284632</td>\n",
       "      <td>Z56mxjHqnR1FK1d5gkf5ARTxwZF8h0HPI+rHFGRrMHo=</td>\n",
       "      <td>uF93OFuDNiSO4ZXM5HEwEzbxOOvZ+/wUPP7ewSaiMYg=</td>\n",
       "      <td>discover</td>\n",
       "      <td>Online playlist more</td>\n",
       "      <td>online-playlist</td>\n",
       "      <td>226089</td>\n",
       "      <td>1259</td>\n",
       "      <td>Gucci Mane</td>\n",
       "      <td>NaN</td>\n",
       "      <td>...</td>\n",
       "      <td>1</td>\n",
       "      <td>1</td>\n",
       "      <td>0</td>\n",
       "      <td>0</td>\n",
       "      <td>0</td>\n",
       "      <td>0</td>\n",
       "      <td>0</td>\n",
       "      <td>1</td>\n",
       "      <td>44</td>\n",
       "      <td>108</td>\n",
       "    </tr>\n",
       "    <tr>\n",
       "      <th>7079336</th>\n",
       "      <td>7079336</td>\n",
       "      <td>wgFA/GOJJh187r3NMqvpT22KeEuWhjm5dauTDzqn7F4=</td>\n",
       "      <td>InNESpQNc6sYaS6LD0mc4vtuIeUbfIqX2wM+8QgKxS4=</td>\n",
       "      <td>discover</td>\n",
       "      <td>Online playlist more</td>\n",
       "      <td>online-playlist</td>\n",
       "      <td>280346</td>\n",
       "      <td>458</td>\n",
       "      <td>池石鎮+胡琳</td>\n",
       "      <td>淩偉文</td>\n",
       "      <td>...</td>\n",
       "      <td>2</td>\n",
       "      <td>1</td>\n",
       "      <td>0</td>\n",
       "      <td>0</td>\n",
       "      <td>0</td>\n",
       "      <td>0</td>\n",
       "      <td>0</td>\n",
       "      <td>0</td>\n",
       "      <td>884</td>\n",
       "      <td>884</td>\n",
       "    </tr>\n",
       "    <tr>\n",
       "      <th>5710192</th>\n",
       "      <td>5710192</td>\n",
       "      <td>Z7EGGBgtVEPJmI7+RyTXLFZP/2i5O/UwaxSGpKX/FWM=</td>\n",
       "      <td>rFLawM8j/vW78o/S3P2GTsmy6HwkTI15P7NF/i9CkX4=</td>\n",
       "      <td>discover</td>\n",
       "      <td>Online playlist more</td>\n",
       "      <td>online-playlist</td>\n",
       "      <td>237505</td>\n",
       "      <td>465|458</td>\n",
       "      <td>林芯儀 (Shennio Lin)</td>\n",
       "      <td>吳姝霆</td>\n",
       "      <td>...</td>\n",
       "      <td>1</td>\n",
       "      <td>1</td>\n",
       "      <td>0</td>\n",
       "      <td>0</td>\n",
       "      <td>0</td>\n",
       "      <td>0</td>\n",
       "      <td>0</td>\n",
       "      <td>1</td>\n",
       "      <td>4775</td>\n",
       "      <td>12727</td>\n",
       "    </tr>\n",
       "  </tbody>\n",
       "</table>\n",
       "<p>5 rows × 35 columns</p>\n",
       "</div>"
      ],
      "text/plain": [
       "         Unnamed: 0                                          msno  \\\n",
       "3080545     3080545  1Lshat/Jzw29ax/Z1BW8cbgqE9gwYQuNHAn1vyU4K6I=   \n",
       "2066956     2066956  gDiC609oMU6T+KRowS1tySjuhzrHtsqFU6keH4VNgcY=   \n",
       "4284632     4284632  Z56mxjHqnR1FK1d5gkf5ARTxwZF8h0HPI+rHFGRrMHo=   \n",
       "7079336     7079336  wgFA/GOJJh187r3NMqvpT22KeEuWhjm5dauTDzqn7F4=   \n",
       "5710192     5710192  Z7EGGBgtVEPJmI7+RyTXLFZP/2i5O/UwaxSGpKX/FWM=   \n",
       "\n",
       "                                              song_id source_system_tab  \\\n",
       "3080545  Vh95vgpmcpdngmn7WrkbwnT4j+jjzf3hGb6GVTXQLzQ=        my library   \n",
       "2066956  eSerI0GiRKmKVwhbY05QQi6DSRrCz4/vhiyvipqURDk=            search   \n",
       "4284632  uF93OFuDNiSO4ZXM5HEwEzbxOOvZ+/wUPP7ewSaiMYg=          discover   \n",
       "7079336  InNESpQNc6sYaS6LD0mc4vtuIeUbfIqX2wM+8QgKxS4=          discover   \n",
       "5710192  rFLawM8j/vW78o/S3P2GTsmy6HwkTI15P7NF/i9CkX4=          discover   \n",
       "\n",
       "           source_screen_name          source_type  song_length genre_ids  \\\n",
       "3080545   Local playlist more       local-playlist       143464       921   \n",
       "2066956                Search  top-hits-for-artist       228832       465   \n",
       "4284632  Online playlist more      online-playlist       226089      1259   \n",
       "7079336  Online playlist more      online-playlist       280346       458   \n",
       "5710192  Online playlist more      online-playlist       237505   465|458   \n",
       "\n",
       "               artist_name       composer         ...           \\\n",
       "3080545        ジブリサウンドトラック            NaN         ...            \n",
       "2066956         aMEI (張惠妹)  Huang Yun Ren         ...            \n",
       "4284632         Gucci Mane            NaN         ...            \n",
       "7079336             池石鎮+胡琳            淩偉文         ...            \n",
       "5710192  林芯儀 (Shennio Lin)            吳姝霆         ...            \n",
       "\n",
       "        lyricists_count  composer_count  is_featured  artist_count  \\\n",
       "3080545               1               1            0             0   \n",
       "2066956               1               1            0             0   \n",
       "4284632               1               1            0             0   \n",
       "7079336               2               1            0             0   \n",
       "5710192               1               1            0             0   \n",
       "\n",
       "        artist_composer  artist_composer_lyricist  song_lang_boolean  \\\n",
       "3080545               0                         0                  1   \n",
       "2066956               0                         0                  0   \n",
       "4284632               0                         0                  0   \n",
       "7079336               0                         0                  0   \n",
       "5710192               0                         0                  0   \n",
       "\n",
       "         smaller_song  count_song_played  count_artist_played  \n",
       "3080545             1                 19                13274  \n",
       "2066956             1               2351                82799  \n",
       "4284632             1                 44                  108  \n",
       "7079336             0                884                  884  \n",
       "5710192             1               4775                12727  \n",
       "\n",
       "[5 rows x 35 columns]"
      ]
     },
     "execution_count": 7,
     "metadata": {},
     "output_type": "execute_result"
    }
   ],
   "source": [
    "X_train.head()"
   ]
  },
  {
   "cell_type": "markdown",
   "metadata": {},
   "source": [
    "# Model Fitting"
   ]
  },
  {
   "cell_type": "code",
   "execution_count": 8,
   "metadata": {
    "ExecuteTime": {
     "end_time": "2018-12-05T18:57:36.354031Z",
     "start_time": "2018-12-05T18:57:35.493300Z"
    }
   },
   "outputs": [],
   "source": [
    "# Sampled train data \n",
    "random.seed(130)\n",
    "idx = random.sample(range(0,X_train.shape[0]), 500000)\n",
    "y_train = pd.DataFrame(y_train)\n",
    "X_train_sampled = X_train.iloc[idx]\n",
    "y_train_sampled = y_train.iloc[idx]"
   ]
  },
  {
   "cell_type": "code",
   "execution_count": 9,
   "metadata": {
    "ExecuteTime": {
     "end_time": "2018-12-05T19:01:26.834791Z",
     "start_time": "2018-12-05T18:57:36.355650Z"
    }
   },
   "outputs": [
    {
     "name": "stderr",
     "output_type": "stream",
     "text": [
      "/home/aditi/anaconda3/envs/ml/lib/python3.7/site-packages/sklearn/preprocessing/label.py:219: DataConversionWarning: A column-vector y was passed when a 1d array was expected. Please change the shape of y to (n_samples, ), for example using ravel().\n",
      "  y = column_or_1d(y, warn=True)\n",
      "/home/aditi/anaconda3/envs/ml/lib/python3.7/site-packages/sklearn/preprocessing/label.py:252: DataConversionWarning: A column-vector y was passed when a 1d array was expected. Please change the shape of y to (n_samples, ), for example using ravel().\n",
      "  y = column_or_1d(y, warn=True)\n",
      "/home/aditi/anaconda3/envs/ml/lib/python3.7/site-packages/lightgbm/engine.py:116: UserWarning: Found `num_rounds` in params. Will use it instead of argument\n",
      "  warnings.warn(\"Found `{}` in params. Will use it instead of argument\".format(alias))\n"
     ]
    },
    {
     "data": {
      "text/plain": [
       "LGBMClassifier(bagging_freq=1, bagging_seed=1, boosting='gbdt',\n",
       "        boosting_type='gbdt', class_weight=None, colsample_bytree=1.0,\n",
       "        eval_metric='binary_logloss', feature_fraction=0.9,\n",
       "        feature_fraction_seed=1, importance_type='split',\n",
       "        learning_rate=0.3, max_bin=256, max_depth=300,\n",
       "        min_child_samples=20, min_child_weight=0.001, min_split_gain=0.0,\n",
       "        n_estimators=100, n_jobs=-1, num_leaves=600, num_rounds=200,\n",
       "        objective='binary', random_state=None, reg_alpha=0.0,\n",
       "        reg_lambda=0.0, silent=True, subsample=1.0,\n",
       "        subsample_for_bin=200000, subsample_freq=0, verbose=0)"
      ]
     },
     "execution_count": 9,
     "metadata": {},
     "output_type": "execute_result"
    }
   ],
   "source": [
    "#Fitting the model\n",
    "sk_reg = lgb.sklearn.LGBMClassifier(\n",
    "         objective='binary',\n",
    "         eval_metric='binary_logloss',\n",
    "         boosting='gbdt',\n",
    "         learning_rate=0.3 ,\n",
    "         verbose=0,\n",
    "         num_leaves=600,\n",
    "         bagging_freq= 1,\n",
    "         bagging_seed= 1,\n",
    "         feature_fraction= 0.9,\n",
    "         feature_fraction_seed= 1,\n",
    "         max_bin= 256,\n",
    "         max_depth= 300,\n",
    "         num_rounds= 200,\n",
    ")\n",
    "\n",
    "\n",
    "sk_reg.fit(X_train_sampled, y_train_sampled)\n",
    "\n"
   ]
  },
  {
   "cell_type": "code",
   "execution_count": 10,
   "metadata": {
    "ExecuteTime": {
     "end_time": "2018-12-05T09:32:46.614450Z",
     "start_time": "2018-12-05T09:15:46.248572Z"
    }
   },
   "outputs": [
    {
     "name": "stdout",
     "output_type": "stream",
     "text": [
      "Mean accuracy score: 0.697\n"
     ]
    }
   ],
   "source": [
    "predicted = sk_reg.predict(X_val)\n",
    "accuracy = accuracy_score(y_val, predicted)\n",
    "print(f'Mean accuracy score: {accuxracy:.3}')"
   ]
  },
  {
   "cell_type": "markdown",
   "metadata": {},
   "source": [
    "### Feature selection"
   ]
  },
  {
   "cell_type": "code",
   "execution_count": 11,
   "metadata": {
    "ExecuteTime": {
     "end_time": "2018-12-05T19:05:06.933917Z",
     "start_time": "2018-12-05T19:05:06.509822Z"
    }
   },
   "outputs": [
    {
     "name": "stdout",
     "output_type": "stream",
     "text": [
      "                   cols    imp\n",
      "1                  msno  38635\n",
      "2               song_id  11890\n",
      "33    count_song_played   9920\n",
      "8           artist_name   8825\n",
      "0            Unnamed: 0   7089\n",
      "9              composer   5426\n",
      "34  count_artist_played   4953\n",
      "6           song_length   4935\n",
      "17      membership_days   4490\n",
      "23            song_year   3066\n"
     ]
    },
    {
     "data": {
      "image/png": "[encoded data removed]",
      "text/plain": [
       "<Figure size 864x504 with 1 Axes>"
      ]
     },
     "metadata": {
      "needs_background": "light"
     },
     "output_type": "display_data"
    }
   ],
   "source": [
    "### Feature selection\n",
    "\n",
    "def lgb_feat_importance(m, df):\n",
    "    return pd.DataFrame({'cols':df.columns, 'imp':m.feature_importances_}\n",
    "                       ).sort_values('imp', ascending=False)\n",
    "\n",
    "fi = lgb_feat_importance(sk_reg, X_train_sampled ); \n",
    "print(fi[:10])\n",
    "\n",
    "def plot_fi(fi):return fi.plot('cols', 'imp', 'barh', figsize=(12,7), legend=False)\n",
    "plot_fi(fi[:30])\n",
    "plt.show()"
   ]
  },
  {
   "cell_type": "code",
   "execution_count": 31,
   "metadata": {
    "ExecuteTime": {
     "end_time": "2018-12-05T13:35:39.758942Z",
     "start_time": "2018-12-05T09:59:05.122710Z"
    }
   },
   "outputs": [
    {
     "name": "stderr",
     "output_type": "stream",
     "text": [
      "/home/aditi/anaconda3/envs/ml/lib/python3.7/site-packages/sklearn/preprocessing/label.py:219: DataConversionWarning: A column-vector y was passed when a 1d array was expected. Please change the shape of y to (n_samples, ), for example using ravel().\n",
      "  y = column_or_1d(y, warn=True)\n",
      "/home/aditi/anaconda3/envs/ml/lib/python3.7/site-packages/sklearn/preprocessing/label.py:252: DataConversionWarning: A column-vector y was passed when a 1d array was expected. Please change the shape of y to (n_samples, ), for example using ravel().\n",
      "  y = column_or_1d(y, warn=True)\n",
      "/home/aditi/anaconda3/envs/ml/lib/python3.7/site-packages/lightgbm/engine.py:116: UserWarning: Found `num_rounds` in params. Will use it instead of argument\n",
      "  warnings.warn(\"Found `{}` in params. Will use it instead of argument\".format(alias))\n"
     ]
    },
    {
     "data": {
      "text/plain": [
       "'0.6964'"
      ]
     },
     "execution_count": 31,
     "metadata": {},
     "output_type": "execute_result"
    }
   ],
   "source": [
    "# Pipeline and grid search\n",
    "pipe_dt = Pipeline([('clf', lgb.sklearn.LGBMClassifier())]) # Estimator: ML algorithm\n",
    "\n",
    "grid_params = dict(\n",
    "         clf__objective=['binary'],\n",
    "         clf__eval_metric=['binary_logloss'],\n",
    "         clf__boosting_type=['gbdt'],\n",
    "         clf__learning_rate=[0.3] ,\n",
    "         clf__verbose=[0],\n",
    "         clf__num_leaves=[300,500,700],\n",
    "         clf__feature_fraction= [0.9],\n",
    "         clf__feature_fraction_seed= [1],\n",
    "         clf__max_bin= [256],\n",
    "         clf__max_depth= [200,250,300],\n",
    "         clf__num_rounds= [200])\n",
    "#dict_keys(['boosting_type', 'class_weight', 'colsample_bytree', 'importance_type', \n",
    " #          'learning_rate', 'max_depth', 'min_child_samples', 'min_child_weight', 'min_split_gain', \n",
    "#            'n_estimators', 'n_jobs', 'num_leaves', 'objective', 'random_state', 'reg_alpha', 'reg_lambda', \n",
    "#            'silent', 'subsample', 'subsample_for_bin', 'subsample_freq', 'eval_metric', 'boosting', 'verbose', \n",
    "#            'bagging_freq', \n",
    "#            'bagging_seed', 'feature_fraction', 'feature_fraction_seed', 'max_bin', 'num_rounds'])\n",
    "\n",
    "gs = GridSearchCV(estimator=pipe_dt,  \n",
    "                  param_grid=grid_params,\n",
    "                  scoring='accuracy',\n",
    "                  cv=5)\n",
    "\n",
    "gs.fit(X_train_sampled, y_train_sampled)\n",
    "f\"{gs.score(X_test, y_test):.4f}\""
   ]
  },
  {
   "cell_type": "code",
   "execution_count": 32,
   "metadata": {
    "ExecuteTime": {
     "end_time": "2018-12-05T13:35:39.773076Z",
     "start_time": "2018-12-05T13:35:39.764835Z"
    }
   },
   "outputs": [
    {
     "name": "stdout",
     "output_type": "stream",
     "text": [
      "Pipeline(memory=None,\n",
      "     steps=[('clf', LGBMClassifier(boosting_type='gbdt', class_weight=None, colsample_bytree=1.0,\n",
      "        eval_metric='binary_logloss', feature_fraction=0.9,\n",
      "        feature_fraction_seed=1, importance_type='split',\n",
      "        learning_rate=0.3, max_bin=256, max_depth=200,\n",
      "        min_child_samples=20, min_...da=0.0, silent=True, subsample=1.0,\n",
      "        subsample_for_bin=200000, subsample_freq=0, verbose=0))])\n"
     ]
    },
    {
     "data": {
      "text/plain": [
       "LGBMClassifier(boosting_type='gbdt', class_weight=None, colsample_bytree=1.0,\n",
       "        eval_metric='binary_logloss', feature_fraction=0.9,\n",
       "        feature_fraction_seed=1, importance_type='split',\n",
       "        learning_rate=0.3, max_bin=256, max_depth=200,\n",
       "        min_child_samples=20, min_child_weight=0.001, min_split_gain=0.0,\n",
       "        n_estimators=100, n_jobs=-1, num_leaves=300, num_rounds=200,\n",
       "        objective='binary', random_state=None, reg_alpha=0.0,\n",
       "        reg_lambda=0.0, silent=True, subsample=1.0,\n",
       "        subsample_for_bin=200000, subsample_freq=0, verbose=0)"
      ]
     },
     "execution_count": 32,
     "metadata": {},
     "output_type": "execute_result"
    }
   ],
   "source": [
    "# Best algorithm with best hyperparameters (need to fit it to find specific model parameters)\n",
    "print(gs.best_estimator_)\n",
    "\n",
    "# Best model with specific model parameters\n",
    "gs.best_estimator_.get_params()['clf']"
   ]
  },
  {
   "cell_type": "code",
   "execution_count": 8,
   "metadata": {
    "ExecuteTime": {
     "end_time": "2018-12-05T20:20:59.147043Z",
     "start_time": "2018-12-05T20:20:59.057673Z"
    }
   },
   "outputs": [],
   "source": [
    "#Fitting the best model on all the data\n",
    "Final_model = lgb.sklearn.LGBMClassifier(objective='binary',\n",
    "                                         eval_metric='binary_logloss',\n",
    "                                         boosting='gbdt',\n",
    "                                         learning_rate=0.3 ,\n",
    "                                         verbose=0,\n",
    "                                         num_leaves=600,\n",
    "                                         bagging_freq= 1,\n",
    "                                         bagging_seed= 1,\n",
    "                                         feature_fraction= 0.9,\n",
    "                                         feature_fraction_seed= 1,\n",
    "                                         max_bin= 256,\n",
    "                                         max_depth= 300,\n",
    "                                         num_rounds= 200)\n",
    "\n"
   ]
  },
  {
   "cell_type": "code",
   "execution_count": 7,
   "metadata": {
    "ExecuteTime": {
     "end_time": "2018-12-05T20:20:44.700515Z",
     "start_time": "2018-12-05T20:05:05.935211Z"
    }
   },
   "outputs": [
    {
     "name": "stdout",
     "output_type": "stream",
     "text": [
      "Mean accuracy score on validation: 0.763\n"
     ]
    }
   ],
   "source": [
    "#Validation accuracy\n",
    "Final_model.fit(X_train, y_train)\n",
    "predicted = Final_model.predict(X_val)\n",
    "accuracy = accuracy_score(y_val, predicted)\n",
    "print(f'Mean accuracy score on validation: {accuracy:.3}')"
   ]
  },
  {
   "cell_type": "code",
   "execution_count": 13,
   "metadata": {
    "ExecuteTime": {
     "end_time": "2018-12-05T19:36:06.972078Z",
     "start_time": "2018-12-05T19:26:33.322139Z"
    }
   },
   "outputs": [
    {
     "name": "stdout",
     "output_type": "stream",
     "text": [
      "Mean accuracy score test: 0.763\n"
     ]
    }
   ],
   "source": [
    "# Test accuracy\n",
    "predicted = Final_model.predict(X_test)\n",
    "accuracy = accuracy_score(y_test, predicted)\n",
    "print(f'Mean accuracy score test: {accuracy:.3}')"
   ]
  },
  {
   "cell_type": "markdown",
   "metadata": {},
   "source": [
    "# Evautation Metric"
   ]
  },
  {
   "cell_type": "code",
   "execution_count": 15,
   "metadata": {
    "ExecuteTime": {
     "end_time": "2018-12-05T19:38:45.720857Z",
     "start_time": "2018-12-05T19:38:45.385203Z"
    }
   },
   "outputs": [
    {
     "name": "stdout",
     "output_type": "stream",
     "text": [
      "precision: [0.75537899 0.77048026]\n",
      "recall: [0.77200701 0.75377641]\n",
      "fscore: [0.76360249 0.76203681]\n",
      "support: [732119 743365]\n"
     ]
    }
   ],
   "source": [
    "from sklearn.metrics import precision_recall_fscore_support as score\n",
    "precision, recall, fscore, support = score(y_test, predicted)\n",
    "print('precision: {}'.format(precision))\n",
    "print('recall: {}'.format(recall))\n",
    "print('fscore: {}'.format(fscore))\n",
    "print('support: {}'.format(support))\n"
   ]
  },
  {
   "cell_type": "code",
   "execution_count": 16,
   "metadata": {
    "ExecuteTime": {
     "end_time": "2018-12-05T19:38:50.248557Z",
     "start_time": "2018-12-05T19:38:49.130750Z"
    }
   },
   "outputs": [
    {
     "name": "stdout",
     "output_type": "stream",
     "text": [
      "Confusion matrix, without normalization\n",
      "[[565201 166918]\n",
      " [183034 560331]]\n",
      "Normalized confusion matrix\n",
      "[[0.77 0.23]\n",
      " [0.25 0.75]]\n"
     ]
    },
    {
     "data": {
      "image/png": "[encoded data removed]",
      "text/plain": [
       "<Figure size 432x288 with 2 Axes>"
      ]
     },
     "metadata": {
      "needs_background": "light"
     },
     "output_type": "display_data"
    },
    {
     "data": {
      "image/png": "[encoded data removed]",
      "text/plain": [
       "<Figure size 432x288 with 2 Axes>"
      ]
     },
     "metadata": {
      "needs_background": "light"
     },
     "output_type": "display_data"
    }
   ],
   "source": [
    "import itertools\n",
    "from sklearn.metrics import confusion_matrix\n",
    "class_names = ['0','1']\n",
    "def plot_confusion_matrix(cm, classes,\n",
    "                          normalize=False,\n",
    "                          title='Confusion matrix',\n",
    "                          cmap=plt.cm.Blues):\n",
    "    \"\"\"\n",
    "    This function prints and plots the confusion matrix.\n",
    "    Normalization can be applied by setting `normalize=True`.\n",
    "    \"\"\"\n",
    "    if normalize:\n",
    "        cm = cm.astype('float') / cm.sum(axis=1)[:, np.newaxis]\n",
    "        print(\"Normalized confusion matrix\")\n",
    "    else:\n",
    "        print('Confusion matrix, without normalization')\n",
    "\n",
    "    print(cm)\n",
    "\n",
    "    plt.imshow(cm, interpolation='nearest', cmap=cmap)\n",
    "    plt.title(title)\n",
    "    plt.colorbar()\n",
    "    tick_marks = np.arange(2)\n",
    "    plt.xticks(tick_marks, classes, rotation=45)\n",
    "    plt.yticks(tick_marks, classes)\n",
    "\n",
    "    fmt = '.2f' if normalize else 'd'\n",
    "    thresh = cm.max() / 2.\n",
    "    for i, j in itertools.product(range(cm.shape[0]), range(cm.shape[1])):\n",
    "        plt.text(j, i, format(cm[i, j], fmt),\n",
    "                 horizontalalignment=\"center\",\n",
    "                 color=\"white\" if cm[i, j] > thresh else \"black\")\n",
    "\n",
    "    plt.ylabel('True label')\n",
    "    plt.xlabel('Predicted label')\n",
    "    plt.tight_layout()\n",
    "\n",
    "\n",
    "# Compute confusion matrix\n",
    "cnf_matrix = confusion_matrix(y_test, predicted)\n",
    "np.set_printoptions(precision=2)\n",
    "\n",
    "# Plot non-normalized confusion matrix\n",
    "plt.figure()\n",
    "plot_confusion_matrix(cnf_matrix, classes=class_names,\n",
    "                      title='Confusion matrix, without normalization')\n",
    "\n",
    "# Plot normalized confusion matrix\n",
    "plt.figure()\n",
    "plot_confusion_matrix(cnf_matrix, classes=class_names, normalize=True,\n",
    "                      title='Normalized confusion matrix')\n",
    "\n",
    "plt.show()\n"
   ]
  },
  {
   "cell_type": "code",
   "execution_count": null,
   "metadata": {},
   "outputs": [],
   "source": []
  }
 ],
 "metadata": {
  "kernelspec": {
   "display_name": "Python 3",
   "language": "python",
   "name": "python3"
  },
  "language_info": {
   "codemirror_mode": {
    "name": "ipython",
    "version": 3
   },
   "file_extension": ".py",
   "mimetype": "text/x-python",
   "name": "python",
   "nbconvert_exporter": "python",
   "pygments_lexer": "ipython3",
   "version": "3.6.6"
  }
 },
 "nbformat": 4,
 "nbformat_minor": 2
}
