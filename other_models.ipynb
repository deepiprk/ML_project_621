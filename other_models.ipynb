{
 "cells": [
  {
   "cell_type": "markdown",
   "metadata": {},
   "source": [
    "# GB"
   ]
  },
  {
   "cell_type": "code",
   "execution_count": null,
   "metadata": {},
   "outputs": [],
   "source": [
    "from sklearn.ensemble import GradientBoostingClassifier\n",
    "gbc = GradientBoostingClassifier(loss='deviance', learning_rate=0.01, n_estimators=500,\n",
    "                                 max_features=\"sqrt\",\n",
    "                                 min_samples_split=4, min_samples_leaf=3,\n",
    "                                 max_depth=6, random_state=1)\n",
    "gbc.fit(X_train, Y_train)"
   ]
  },
  {
   "cell_type": "markdown",
   "metadata": {},
   "source": [
    "### evaluation"
   ]
  },
  {
   "cell_type": "code",
   "execution_count": null,
   "metadata": {},
   "outputs": [],
   "source": [
    "from sklearn.metrics import accuracy_score\n",
    "gbc_predicted = gbc.predict(s_X_test)\n",
    "gbc_acc = accuracy_score(s_Y_test, gbc_predicted)\n",
    "gbc_acc"
   ]
  },
  {
   "cell_type": "code",
   "execution_count": null,
   "metadata": {},
   "outputs": [],
   "source": [
    "# approximate 0.65"
   ]
  },
  {
   "cell_type": "markdown",
   "metadata": {},
   "source": [
    "# LGB"
   ]
  },
  {
   "cell_type": "code",
   "execution_count": null,
   "metadata": {},
   "outputs": [],
   "source": [
    "import lightgbm as lgb\n",
    "parameter = {'objective':'binary:logitraw', 'boosting':'gbdt', 'metric':'binary_logloss', \n",
    "          'learning_rate':0.01, 'max_bin':256, 'num_rounds':200,\n",
    "          'max_depth':100, 'num_leaves':20, 'num_iteration':1000, \n",
    "          'bagging_fraction':0.95, 'bagging_freq':1, 'bagging_seed':1, \n",
    "          'feature_fraction':0.95, 'feature_fraction_seed':1}\n",
    "\n",
    "lgb_train = lgb.Dataset(X_train, Y_train)\n",
    "lgb_eval = lgb.Dataset(X_test, Y_test, reference=lgb_train)\n",
    "lgb_model = lgb.train(parameter,lgb_train, num_boost_round=200, valid_sets=lgb_eval, early_stopping_rounds=100)"
   ]
  },
  {
   "cell_type": "markdown",
   "metadata": {},
   "source": [
    "### evaluation"
   ]
  },
  {
   "cell_type": "code",
   "execution_count": null,
   "metadata": {},
   "outputs": [],
   "source": [
    "lgb_predicted = lgb_model.predict(X_test)\n",
    "lgb_result = [0 if i < 0.5 else 1 for i in lgb_predicted]\n",
    "lgb_acc = accuracy_score(Y_test, lgb_result)\n",
    "lgb_acc"
   ]
  },
  {
   "cell_type": "code",
   "execution_count": null,
   "metadata": {},
   "outputs": [],
   "source": []
  },
  {
   "cell_type": "code",
   "execution_count": null,
   "metadata": {},
   "outputs": [],
   "source": [
    "plt.figure(figsize=(12,12))\n",
    "lgb.plot_importance(lgb_model, max_num_features=30)\n",
    "plt.title(\"Featurertances\")\n",
    "plt.show()"
   ]
  }
 ],
 "metadata": {
  "kernelspec": {
   "display_name": "Python 3",
   "language": "python",
   "name": "python3"
  },
  "language_info": {
   "codemirror_mode": {
    "name": "ipython",
    "version": 3
   },
   "file_extension": ".py",
   "mimetype": "text/x-python",
   "name": "python",
   "nbconvert_exporter": "python",
   "pygments_lexer": "ipython3",
   "version": "3.6.6"
  }
 },
 "nbformat": 4,
 "nbformat_minor": 2
}
